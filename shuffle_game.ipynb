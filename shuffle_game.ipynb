{
 "cells": [
  {
   "cell_type": "code",
   "execution_count": 1,
   "id": "a191af83",
   "metadata": {},
   "outputs": [],
   "source": [
    "from random import shuffle"
   ]
  },
  {
   "cell_type": "markdown",
   "id": "71c3f3cc",
   "metadata": {},
   "source": [
    "Function definitions"
   ]
  },
  {
   "cell_type": "code",
   "execution_count": 4,
   "id": "22de14ad",
   "metadata": {},
   "outputs": [],
   "source": [
    "# function to shuffle the input list\n",
    "\n",
    "def shuffle_list(inputlist):\n",
    "    shuffle(inputlist)\n",
    "    return inputlist"
   ]
  },
  {
   "cell_type": "code",
   "execution_count": 12,
   "id": "aa974f93",
   "metadata": {},
   "outputs": [],
   "source": [
    "# function to take user input\n",
    "\n",
    "def user_input():\n",
    "    guess = ''\n",
    "    \n",
    "    # continue asking unless correct input is provided\n",
    "    \n",
    "    while guess not in ['0','1','2']:\n",
    "        guess = input('Enter position between 0-2:')\n",
    "    return int(guess)"
   ]
  },
  {
   "cell_type": "code",
   "execution_count": 6,
   "id": "6df508fb",
   "metadata": {},
   "outputs": [],
   "source": [
    "# function to check the guess\n",
    "\n",
    "def check_guess(shuffledlist, guess):\n",
    "    if shuffledlist[guess] == 'O':\n",
    "        print('Correct, you won!')\n",
    "    else:\n",
    "        print('Wrong answer!')\n",
    "        print(shuffledlist)"
   ]
  },
  {
   "cell_type": "markdown",
   "id": "3750f47a",
   "metadata": {},
   "source": [
    "Execution flow"
   ]
  },
  {
   "cell_type": "code",
   "execution_count": 13,
   "id": "d6a63728",
   "metadata": {},
   "outputs": [
    {
     "name": "stdout",
     "output_type": "stream",
     "text": [
      "Enter position between 0-2:5\n",
      "Enter position between 0-2:2\n",
      "Wrong answer!\n",
      "['O', ' ', ' ']\n"
     ]
    }
   ],
   "source": [
    "# input list definition\n",
    "inputlist = [' ','O',' ']\n",
    "\n",
    "# shuffled list\n",
    "shuffledlist = shuffle_list(inputlist)\n",
    "\n",
    "# user guess\n",
    "guess = user_input()\n",
    "\n",
    "# outcome\n",
    "check_guess(shuffledlist, guess)"
   ]
  },
  {
   "cell_type": "code",
   "execution_count": null,
   "id": "6f47e74d",
   "metadata": {},
   "outputs": [],
   "source": []
  }
 ],
 "metadata": {
  "kernelspec": {
   "display_name": "Python 3",
   "language": "python",
   "name": "python3"
  },
  "language_info": {
   "codemirror_mode": {
    "name": "ipython",
    "version": 3
   },
   "file_extension": ".py",
   "mimetype": "text/x-python",
   "name": "python",
   "nbconvert_exporter": "python",
   "pygments_lexer": "ipython3",
   "version": "3.8.8"
  }
 },
 "nbformat": 4,
 "nbformat_minor": 5
}
