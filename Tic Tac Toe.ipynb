{
 "cells": [
  {
   "cell_type": "code",
   "execution_count": 1,
   "id": "168377a0",
   "metadata": {},
   "outputs": [],
   "source": [
    "from IPython.display import clear_output\n",
    "import random"
   ]
  },
  {
   "cell_type": "markdown",
   "id": "386f7d7e",
   "metadata": {},
   "source": [
    "#### Player 1 choice of play\n",
    "\n",
    "Function definition to take player's input for either X or O"
   ]
  },
  {
   "cell_type": "code",
   "execution_count": 2,
   "id": "b7bd867d",
   "metadata": {},
   "outputs": [],
   "source": [
    "def play_choice():\n",
    "    \n",
    "    # choose X or O\n",
    "    choice = ''\n",
    "    \n",
    "    while choice not in ['X','O']:\n",
    "        choice = input('Player 1, choose either X or O: ')\n",
    "        \n",
    "        if choice not in ['X','O']:\n",
    "            clear_output()\n",
    "            print('Not a valid input')\n",
    "        else:\n",
    "            continue\n",
    "    \n",
    "    clear_output()\n",
    "    return choice"
   ]
  },
  {
   "cell_type": "markdown",
   "id": "e7bb72ed",
   "metadata": {},
   "source": [
    "#### Player 2 assignment"
   ]
  },
  {
   "cell_type": "code",
   "execution_count": 3,
   "id": "8715a89b",
   "metadata": {},
   "outputs": [],
   "source": [
    "def player2(p1):\n",
    "    p2 = 'X'\n",
    "\n",
    "    if p1 == 'X':\n",
    "        p2 = 'O'\n",
    "    \n",
    "    return p2"
   ]
  },
  {
   "cell_type": "markdown",
   "id": "335c92af",
   "metadata": {},
   "source": [
    "#### Function to identify which player takes the first play"
   ]
  },
  {
   "cell_type": "code",
   "execution_count": 4,
   "id": "0f5d3837",
   "metadata": {},
   "outputs": [],
   "source": [
    "def first_turn():\n",
    "    if random.randint(0,1) == 0:\n",
    "        return 'Player1'\n",
    "    else:\n",
    "        return 'Player2'"
   ]
  },
  {
   "cell_type": "markdown",
   "id": "68735a87",
   "metadata": {},
   "source": [
    "#### Function to display current grid"
   ]
  },
  {
   "cell_type": "code",
   "execution_count": 5,
   "id": "69489e10",
   "metadata": {},
   "outputs": [],
   "source": [
    "def display_grid(row1, row2, row3):\n",
    "    \n",
    "    print(row1)\n",
    "    print(row2)\n",
    "    print(row3)"
   ]
  },
  {
   "cell_type": "markdown",
   "id": "eac68462",
   "metadata": {},
   "source": [
    "#### User input for position\n",
    "\n",
    "Function definition taking user input for position"
   ]
  },
  {
   "cell_type": "code",
   "execution_count": 6,
   "id": "270fc65e",
   "metadata": {},
   "outputs": [],
   "source": [
    "def play_position():\n",
    "    \n",
    "    pos = ''\n",
    "    range_check = ['1','2','3','4','5','6','7','8','9']\n",
    "    \n",
    "    while not pos.isdigit() or pos not in range_check:\n",
    "        pos = input('Enter position between (1-9): ')\n",
    "        \n",
    "        clear_output()\n",
    "    \n",
    "    return int(pos)"
   ]
  },
  {
   "cell_type": "markdown",
   "id": "ed240113",
   "metadata": {},
   "source": [
    "#### Apply player's choice to list"
   ]
  },
  {
   "cell_type": "code",
   "execution_count": 7,
   "id": "4a79815f",
   "metadata": {},
   "outputs": [],
   "source": [
    "def apply_choice(position, choice):\n",
    "    if position in range(1,4):\n",
    "        row1[position-1] = choice\n",
    "        return row1\n",
    "    elif position in range(4,7):\n",
    "        row2[position-4] = choice\n",
    "        return row2\n",
    "    elif position in range(7,10):\n",
    "        row3[position-7] = choice\n",
    "        return row3"
   ]
  },
  {
   "cell_type": "markdown",
   "id": "a39471dd",
   "metadata": {},
   "source": [
    "#### Win check"
   ]
  },
  {
   "cell_type": "code",
   "execution_count": 8,
   "id": "d8b6adad",
   "metadata": {},
   "outputs": [],
   "source": [
    "def win_check(row1, row2, row3, choice):\n",
    "    return ((row1 == [choice, choice, choice]) #row1\n",
    "    or (row2 == [choice, choice, choice]) #row 2\n",
    "    or (row3 == [choice, choice, choice]) # row 3\n",
    "    or (row1[0] == choice and row2[0] == choice and row3[0] == choice) # first column\n",
    "    or (row1[1] == choice and row2[1] == choice and row3[1] == choice) # second column\n",
    "    or (row1[2] == choice and row2[2] == choice and row3[2] == choice) # third column\n",
    "    or (row1[0] == choice and row2[1] == choice and row3[2] == choice) # diagonal 1\n",
    "    or (row1[2] == choice and row2[1] == choice and row3[0] == choice)) # diagonal 2"
   ]
  },
  {
   "cell_type": "markdown",
   "id": "b2b20b76",
   "metadata": {},
   "source": [
    "#### No room for play"
   ]
  },
  {
   "cell_type": "code",
   "execution_count": 9,
   "id": "f51ee459",
   "metadata": {},
   "outputs": [],
   "source": [
    "def full_grid(row1, row2, row3):\n",
    "    return ('' not in row1 and '' not in row2 and '' not in row3)"
   ]
  },
  {
   "cell_type": "markdown",
   "id": "734bf699",
   "metadata": {},
   "source": [
    "#### Continue game?"
   ]
  },
  {
   "cell_type": "code",
   "execution_count": 10,
   "id": "a479935c",
   "metadata": {},
   "outputs": [],
   "source": [
    "def continue_game():\n",
    "    \n",
    "    replay = ''\n",
    "    \n",
    "    while replay not in ['Y','y','N','n']:\n",
    "        \n",
    "        replay = input('Would you like to play again? (Y/N): ')\n",
    "        \n",
    "        if replay == 'Y' or replay == 'y':\n",
    "            return True\n",
    "        elif replay == 'N' or replay == 'n':\n",
    "            return False\n",
    "        else:\n",
    "            print('Worng Input')\n",
    "            continue"
   ]
  },
  {
   "cell_type": "markdown",
   "id": "86fec565",
   "metadata": {},
   "source": [
    "### Main Program"
   ]
  },
  {
   "cell_type": "code",
   "execution_count": 13,
   "id": "63fe6991",
   "metadata": {},
   "outputs": [
    {
     "name": "stdout",
     "output_type": "stream",
     "text": [
      "['X', 'O', 'X']\n",
      "['O', 'X', '']\n",
      "['X', '', 'O']\n",
      "Congratulations, Player1 won!!\n",
      "Would you like to play again? (Y/N): N\n"
     ]
    }
   ],
   "source": [
    "# getting first player's choice of marker\n",
    "p1 = play_choice()\n",
    "\n",
    "# assigning marker to the second player\n",
    "p2 = player2(p1)\n",
    "\n",
    "print(f'Player1 marks {p1} and Player2 marks {p2}')\n",
    "\n",
    "# identify player to start the game\n",
    "turn = first_turn()\n",
    "print(f'{turn} starts the game!')\n",
    "\n",
    "play = True\n",
    "\n",
    "while True:\n",
    "    \n",
    "    # reset the grid\n",
    "    row1 = ['','','']\n",
    "    row2 = ['','','']\n",
    "    row3 = ['','','']\n",
    "    \n",
    "    while play:\n",
    "        if turn == 'Player1':\n",
    "            p1_pos = play_position()\n",
    "            apply_choice(p1_pos, p1)\n",
    "            display_grid(row1, row2, row3)\n",
    "\n",
    "            # check for win\n",
    "            if win_check(row1, row2, row3, p1):\n",
    "                #display_grid(row1, row2, row3)\n",
    "                print('Congratulations, Player1 won!!')\n",
    "                play = False\n",
    "            else:\n",
    "                if full_grid(row1, row2, row3):\n",
    "                    display_grid(row1, row2, row3)\n",
    "                    print('Grid is full. Game is a draw!!')\n",
    "                else:\n",
    "                    turn = 'Player2'\n",
    "\n",
    "        elif turn == 'Player2':\n",
    "            p2_pos = play_position()\n",
    "            apply_choice(p2_pos, p2)\n",
    "            display_grid(row1, row2, row3)\n",
    "\n",
    "            # check for win\n",
    "            if win_check(row1, row2, row3, p2):\n",
    "                #display_grid(row1, row2, row3)\n",
    "                print('Congratulations, Player2 won!!')\n",
    "                play = False\n",
    "            else:\n",
    "                if full_grid(row1, row2, row3):\n",
    "                    display_grid(row1, row2, row3)\n",
    "                    print('Grid is full. Game is a draw!!')\n",
    "                else:\n",
    "                    turn = 'Player1'\n",
    "    \n",
    "    if not continue_game():\n",
    "        break"
   ]
  }
 ],
 "metadata": {
  "kernelspec": {
   "display_name": "Python 3",
   "language": "python",
   "name": "python3"
  },
  "language_info": {
   "codemirror_mode": {
    "name": "ipython",
    "version": 3
   },
   "file_extension": ".py",
   "mimetype": "text/x-python",
   "name": "python",
   "nbconvert_exporter": "python",
   "pygments_lexer": "ipython3",
   "version": "3.8.8"
  }
 },
 "nbformat": 4,
 "nbformat_minor": 5
}
